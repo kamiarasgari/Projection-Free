{
 "cells": [
  {
   "cell_type": "code",
   "execution_count": 1,
   "metadata": {},
   "outputs": [],
   "source": [
    "import numpy as np"
   ]
  },
  {
   "cell_type": "code",
   "execution_count": 2,
   "metadata": {},
   "outputs": [],
   "source": [
    "def Grad(x,C,dim,Sigma):\n",
    "    return np.sign(x-C)+Sigma*np.random.normal(dim,1) \n",
    "\n",
    "def norm1(x):\n",
    "    return np.linalg.norm(x,ord=1)\n",
    "\n",
    "#def satlin(w):\n",
    "#    return np.maximum(0,w)-np.maximum(0,w-1)\n",
    "\n",
    "def proj(w):\n",
    "    return w - np.maximum(0,w-1) - np.minimum(0,w+1)"
   ]
  },
  {
   "cell_type": "code",
   "execution_count": 4,
   "metadata": {},
   "outputs": [
    {
     "ename": "KeyboardInterrupt",
     "evalue": "",
     "output_type": "error",
     "traceback": [
      "\u001b[0;31m---------------------------------------------------------------------------\u001b[0m",
      "\u001b[0;31mKeyboardInterrupt\u001b[0m                         Traceback (most recent call last)",
      "Cell \u001b[0;32mIn[4], line 47\u001b[0m\n\u001b[1;32m     45\u001b[0m                 yy \u001b[39m=\u001b[39m x[:,[k]] \u001b[39m-\u001b[39m beta\u001b[39m*\u001b[39mg     \n\u001b[1;32m     46\u001b[0m                 \u001b[39m#x[:,[k+1]] = satlin(yy)-satlin(-yy)  \u001b[39;00m\n\u001b[0;32m---> 47\u001b[0m                 x[:,[k\u001b[39m+\u001b[39m\u001b[39m1\u001b[39m]] \u001b[39m=\u001b[39m proj(yy)\n\u001b[1;32m     48\u001b[0m             X_T_1 \u001b[39m=\u001b[39m np\u001b[39m.\u001b[39maverage(x)\n\u001b[1;32m     49\u001b[0m             \u001b[39m#E_1[i]= norm1(w'-X_T_1)-norm1(w'-X_opt) \u001b[39;00m\n\u001b[1;32m     50\u001b[0m \n\u001b[1;32m     51\u001b[0m \n\u001b[1;32m     52\u001b[0m \u001b[39m#name = ['W=in_','dim=',num2str(n),'_sigma=',num2str(Sigma)] \u001b[39;00m\n\u001b[1;32m     53\u001b[0m \u001b[39m#save(name,\"X_opt\",\"E_1\",\"E_OUR\",\"X_T_1\",\"X_T_OUR\",\"TT\")\u001b[39;00m\n",
      "Cell \u001b[0;32mIn[2], line 10\u001b[0m, in \u001b[0;36mproj\u001b[0;34m(w)\u001b[0m\n\u001b[1;32m      7\u001b[0m \u001b[39mdef\u001b[39;00m \u001b[39msatlin\u001b[39m(w):\n\u001b[1;32m      8\u001b[0m     \u001b[39mreturn\u001b[39;00m np\u001b[39m.\u001b[39mmaximum(\u001b[39m0\u001b[39m,w)\u001b[39m-\u001b[39mnp\u001b[39m.\u001b[39mmaximum(\u001b[39m0\u001b[39m,w\u001b[39m-\u001b[39m\u001b[39m1\u001b[39m)\n\u001b[0;32m---> 10\u001b[0m \u001b[39mdef\u001b[39;00m \u001b[39mproj\u001b[39m(w):\n\u001b[1;32m     11\u001b[0m     \u001b[39mreturn\u001b[39;00m w \u001b[39m-\u001b[39m np\u001b[39m.\u001b[39mmaximum(\u001b[39m0\u001b[39m,w\u001b[39m-\u001b[39m\u001b[39m1\u001b[39m) \u001b[39m-\u001b[39m np\u001b[39m.\u001b[39mminimum(\u001b[39m0\u001b[39m,w\u001b[39m+\u001b[39m\u001b[39m1\u001b[39m)\n",
      "\u001b[0;31mKeyboardInterrupt\u001b[0m: "
     ]
    }
   ],
   "source": [
    "steps = 400\n",
    "SSigma = [1]\n",
    "TTT = [10000]\n",
    "\n",
    "for n in [10]:\n",
    "    w = np.random.uniform(low=-1, high=1, size=(n,1))\n",
    "    #X_opt = satlin(w)-satlin(-w)\n",
    "    X_opt = proj(w)\n",
    "    \n",
    "    for s in range(len(SSigma)):\n",
    "        Sigma = SSigma[s] \n",
    "        D = 2*np.sqrt(n) \n",
    "        G = np.sqrt(n) \n",
    "        B = np.sqrt(G*G+n*Sigma*Sigma) \n",
    "        \n",
    "        TT= np.floor(np.linspace(start=200, stop=TTT[s], num=steps))\n",
    "        \n",
    "        for i in range(len(TT)):\n",
    "            i\n",
    "            T = TT[i].astype(int)\n",
    "            \n",
    "            alpha = 2*B* np.sqrt(T)/D \n",
    "            eta = G/ np.sqrt(T)/D \n",
    "            beta = D/ np.sqrt(T)/B/2 \n",
    "            \n",
    "            x = np.zeros(shape=(n,T)) \n",
    "            y = np.zeros(shape=(n,1)) \n",
    "            Q = np.zeros(shape=(n,1)) \n",
    "            \n",
    "            x[:,[0]] = np.zeros(shape=(n,1)) \n",
    "            y = x[:,[0]] \n",
    "            \n",
    "            for k in range(T-1):\n",
    "                Q = Q+y-x[:,[k]] \n",
    "                g = Grad(y,w,n,Sigma) \n",
    "                \n",
    "                x[:,[k+1]] = np.sign(Q) \n",
    "                y = (alpha*y+eta*x[:,[k+1]]-eta*Q-g)/(alpha+eta)   \n",
    "            \n",
    "            X_T_OUR = np.average(x) \n",
    "            #E_OUR[i]= norm1(w'-X_T_OUR)-norm1(w'-X_opt) \n",
    "            x = np.zeros(shape=(n,T)) \n",
    "            for k in range(T-1):\n",
    "                g = Grad(x[:,[k]],w,n,Sigma) \n",
    "                yy = x[:,[k]] - beta*g     \n",
    "                #x[:,[k+1]] = satlin(yy)-satlin(-yy)  \n",
    "                x[:,[k+1]] = proj(yy)\n",
    "            X_T_1 = np.average(x)\n",
    "            #E_1[i]= norm1(w'-X_T_1)-norm1(w'-X_opt) \n",
    "\n",
    "\n",
    "#name = ['W=in_','dim=',num2str(n),'_sigma=',num2str(Sigma)] \n",
    "#save(name,\"X_opt\",\"E_1\",\"E_OUR\",\"X_T_1\",\"X_T_OUR\",\"TT\")\n",
    "\n",
    "\n",
    "\n",
    "\n",
    "\n",
    "\n",
    "\n",
    "\n",
    "\n"
   ]
  }
 ],
 "metadata": {
  "kernelspec": {
   "display_name": "Projection-Free-VENV",
   "language": "python",
   "name": "python3"
  },
  "language_info": {
   "codemirror_mode": {
    "name": "ipython",
    "version": 3
   },
   "file_extension": ".py",
   "mimetype": "text/x-python",
   "name": "python",
   "nbconvert_exporter": "python",
   "pygments_lexer": "ipython3",
   "version": "3.10.6"
  },
  "orig_nbformat": 4,
  "vscode": {
   "interpreter": {
    "hash": "786f8f0ffbf7813c0a4b76f9d4dc4d9250ba3bbd710d5fb89fa242c21875cea0"
   }
  }
 },
 "nbformat": 4,
 "nbformat_minor": 2
}
